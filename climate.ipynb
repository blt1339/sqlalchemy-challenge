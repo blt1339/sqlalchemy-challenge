{
 "cells": [
  {
   "cell_type": "code",
   "execution_count": 1,
   "metadata": {},
   "outputs": [],
   "source": [
    "%matplotlib inline\n",
    "# Dependencies\n",
    "from matplotlib import style\n",
    "style.use('fivethirtyeight')\n",
    "import matplotlib.pyplot as plt\n",
    "import numpy as np\n",
    "import pandas as pd\n",
    "import datetime as dt\n",
    "from scipy import stats, mean\n",
    "import time\n",
    "from dateutil.relativedelta import relativedelta\n",
    "from pandas.plotting import table "
   ]
  },
  {
   "cell_type": "markdown",
   "metadata": {},
   "source": [
    "# Reflect Tables into SQLAlchemy ORM"
   ]
  },
  {
   "cell_type": "code",
   "execution_count": 2,
   "metadata": {},
   "outputs": [],
   "source": [
    "# Python SQL toolkit and Object Relational Mapper\n",
    "import sqlalchemy\n",
    "from sqlalchemy.ext.automap import automap_base\n",
    "from sqlalchemy.orm import Session\n",
    "from sqlalchemy import create_engine, func, inspect"
   ]
  },
  {
   "cell_type": "code",
   "execution_count": 3,
   "metadata": {},
   "outputs": [],
   "source": [
    "# Create engine\n",
    "engine = create_engine(\"sqlite:///Resources/hawaii.sqlite\")"
   ]
  },
  {
   "cell_type": "code",
   "execution_count": 4,
   "metadata": {},
   "outputs": [],
   "source": [
    "# reflect an existing database into a new model\n",
    "Base = automap_base()\n",
    "\n",
    "# reflect the tables\n",
    "Base.prepare(engine, reflect=True)"
   ]
  },
  {
   "cell_type": "code",
   "execution_count": 5,
   "metadata": {},
   "outputs": [
    {
     "data": {
      "text/plain": [
       "['measurement', 'station']"
      ]
     },
     "execution_count": 5,
     "metadata": {},
     "output_type": "execute_result"
    }
   ],
   "source": [
    "# We can view all of the classes that automap found\n",
    "Base.classes.keys()"
   ]
  },
  {
   "cell_type": "code",
   "execution_count": 6,
   "metadata": {},
   "outputs": [],
   "source": [
    "# Save references to each table\n",
    "Measurement = Base.classes.measurement\n",
    "Station = Base.classes.station"
   ]
  },
  {
   "cell_type": "code",
   "execution_count": 7,
   "metadata": {},
   "outputs": [],
   "source": [
    "# Create our session (link) from Python to the DB\n",
    "session = Session(engine)"
   ]
  },
  {
   "cell_type": "markdown",
   "metadata": {},
   "source": [
    "# Exploratory Climate Analysis"
   ]
  },
  {
   "cell_type": "code",
   "execution_count": 8,
   "metadata": {},
   "outputs": [
    {
     "data": {
      "text/plain": [
       "['measurement', 'station']"
      ]
     },
     "execution_count": 8,
     "metadata": {},
     "output_type": "execute_result"
    }
   ],
   "source": [
    "# Use the Inspector to explore the database and print the table names\n",
    "inspector = inspect(engine)\n",
    "inspector.get_table_names()"
   ]
  },
  {
   "cell_type": "code",
   "execution_count": 9,
   "metadata": {},
   "outputs": [
    {
     "name": "stdout",
     "output_type": "stream",
     "text": [
      "id INTEGER\n",
      "station TEXT\n",
      "date TEXT\n",
      "prcp FLOAT\n",
      "tobs FLOAT\n"
     ]
    }
   ],
   "source": [
    "# Use Inspector to print the column names and types\n",
    "columns = inspector.get_columns('measurement')\n",
    "for c in columns:\n",
    "    print(c['name'], c[\"type\"])\n"
   ]
  },
  {
   "cell_type": "code",
   "execution_count": 10,
   "metadata": {},
   "outputs": [
    {
     "name": "stdout",
     "output_type": "stream",
     "text": [
      "id INTEGER\n",
      "station TEXT\n",
      "name TEXT\n",
      "latitude FLOAT\n",
      "longitude FLOAT\n",
      "elevation FLOAT\n"
     ]
    }
   ],
   "source": [
    "# Use Inspector to print the column names and types\n",
    "columns = inspector.get_columns('station')\n",
    "for c in columns:\n",
    "    print(c['name'], c[\"type\"])"
   ]
  },
  {
   "cell_type": "code",
   "execution_count": 11,
   "metadata": {},
   "outputs": [],
   "source": [
    "# Design a query to retrieve the last 12 months of precipitation data and plot the results\n",
    "#-----------------------------------------------------------------------------------------"
   ]
  },
  {
   "cell_type": "code",
   "execution_count": 12,
   "metadata": {},
   "outputs": [
    {
     "name": "stdout",
     "output_type": "stream",
     "text": [
      "2017\n",
      "8\n",
      "23\n"
     ]
    }
   ],
   "source": [
    "# Figure out the last date in the measurement table\n",
    "last_measurement_record = session.query(Measurement.date).order_by(Measurement.date.desc()).first()\n",
    "\n",
    "last_measurement_year = int(last_measurement_record[0][:4])\n",
    "last_measurement_month = int(last_measurement_record[0][5:7])\n",
    "last_measurement_day = int(last_measurement_record[0][8:10])\n",
    "print(last_measurement_year)\n",
    "print(last_measurement_month)\n",
    "print(last_measurement_day)\n",
    "\n"
   ]
  },
  {
   "cell_type": "code",
   "execution_count": 13,
   "metadata": {},
   "outputs": [
    {
     "name": "stdout",
     "output_type": "stream",
     "text": [
      "2016-08-23\n"
     ]
    }
   ],
   "source": [
    "date_year_ago = dt.date(last_measurement_year,\\\n",
    "                        last_measurement_month,\\\n",
    "                        last_measurement_day) - relativedelta(years=1)\n",
    "print(date_year_ago)"
   ]
  },
  {
   "cell_type": "code",
   "execution_count": 14,
   "metadata": {},
   "outputs": [],
   "source": [
    "# Perform a query to retrieve the data and precipitation scores\n",
    "precipitation_12_months_query = session.query(Measurement.date,Measurement.prcp).\\\n",
    "                                       filter(Measurement.date >= date_year_ago).\\\n",
    "                                     order_by(Measurement.date)\n",
    "\n"
   ]
  },
  {
   "cell_type": "code",
   "execution_count": 15,
   "metadata": {},
   "outputs": [
    {
     "data": {
      "text/html": [
       "<div>\n",
       "<style scoped>\n",
       "    .dataframe tbody tr th:only-of-type {\n",
       "        vertical-align: middle;\n",
       "    }\n",
       "\n",
       "    .dataframe tbody tr th {\n",
       "        vertical-align: top;\n",
       "    }\n",
       "\n",
       "    .dataframe thead th {\n",
       "        text-align: right;\n",
       "    }\n",
       "</style>\n",
       "<table border=\"1\" class=\"dataframe\">\n",
       "  <thead>\n",
       "    <tr style=\"text-align: right;\">\n",
       "      <th></th>\n",
       "      <th>prcp</th>\n",
       "    </tr>\n",
       "    <tr>\n",
       "      <th>date</th>\n",
       "      <th></th>\n",
       "    </tr>\n",
       "  </thead>\n",
       "  <tbody>\n",
       "    <tr>\n",
       "      <td>2016-08-23</td>\n",
       "      <td>0.00</td>\n",
       "    </tr>\n",
       "    <tr>\n",
       "      <td>2016-08-23</td>\n",
       "      <td>0.15</td>\n",
       "    </tr>\n",
       "    <tr>\n",
       "      <td>2016-08-23</td>\n",
       "      <td>0.05</td>\n",
       "    </tr>\n",
       "    <tr>\n",
       "      <td>2016-08-23</td>\n",
       "      <td>NaN</td>\n",
       "    </tr>\n",
       "    <tr>\n",
       "      <td>2016-08-23</td>\n",
       "      <td>0.02</td>\n",
       "    </tr>\n",
       "    <tr>\n",
       "      <td>2016-08-23</td>\n",
       "      <td>1.79</td>\n",
       "    </tr>\n",
       "    <tr>\n",
       "      <td>2016-08-23</td>\n",
       "      <td>0.70</td>\n",
       "    </tr>\n",
       "    <tr>\n",
       "      <td>2016-08-24</td>\n",
       "      <td>1.45</td>\n",
       "    </tr>\n",
       "    <tr>\n",
       "      <td>2016-08-24</td>\n",
       "      <td>2.15</td>\n",
       "    </tr>\n",
       "    <tr>\n",
       "      <td>2016-08-24</td>\n",
       "      <td>1.22</td>\n",
       "    </tr>\n",
       "    <tr>\n",
       "      <td>2016-08-24</td>\n",
       "      <td>2.15</td>\n",
       "    </tr>\n",
       "    <tr>\n",
       "      <td>2016-08-24</td>\n",
       "      <td>2.28</td>\n",
       "    </tr>\n",
       "    <tr>\n",
       "      <td>2016-08-24</td>\n",
       "      <td>0.08</td>\n",
       "    </tr>\n",
       "    <tr>\n",
       "      <td>2016-08-24</td>\n",
       "      <td>NaN</td>\n",
       "    </tr>\n",
       "    <tr>\n",
       "      <td>2016-08-25</td>\n",
       "      <td>0.06</td>\n",
       "    </tr>\n",
       "    <tr>\n",
       "      <td>2016-08-25</td>\n",
       "      <td>0.11</td>\n",
       "    </tr>\n",
       "    <tr>\n",
       "      <td>2016-08-25</td>\n",
       "      <td>0.21</td>\n",
       "    </tr>\n",
       "    <tr>\n",
       "      <td>2016-08-25</td>\n",
       "      <td>0.00</td>\n",
       "    </tr>\n",
       "    <tr>\n",
       "      <td>2016-08-25</td>\n",
       "      <td>0.00</td>\n",
       "    </tr>\n",
       "    <tr>\n",
       "      <td>2016-08-25</td>\n",
       "      <td>0.08</td>\n",
       "    </tr>\n",
       "    <tr>\n",
       "      <td>2016-08-25</td>\n",
       "      <td>0.08</td>\n",
       "    </tr>\n",
       "    <tr>\n",
       "      <td>2016-08-26</td>\n",
       "      <td>0.00</td>\n",
       "    </tr>\n",
       "    <tr>\n",
       "      <td>2016-08-26</td>\n",
       "      <td>0.04</td>\n",
       "    </tr>\n",
       "    <tr>\n",
       "      <td>2016-08-26</td>\n",
       "      <td>0.01</td>\n",
       "    </tr>\n",
       "    <tr>\n",
       "      <td>2016-08-26</td>\n",
       "      <td>0.03</td>\n",
       "    </tr>\n",
       "    <tr>\n",
       "      <td>2016-08-26</td>\n",
       "      <td>0.00</td>\n",
       "    </tr>\n",
       "    <tr>\n",
       "      <td>2016-08-26</td>\n",
       "      <td>0.02</td>\n",
       "    </tr>\n",
       "    <tr>\n",
       "      <td>2016-08-27</td>\n",
       "      <td>0.00</td>\n",
       "    </tr>\n",
       "    <tr>\n",
       "      <td>2016-08-27</td>\n",
       "      <td>0.18</td>\n",
       "    </tr>\n",
       "    <tr>\n",
       "      <td>2016-08-27</td>\n",
       "      <td>0.02</td>\n",
       "    </tr>\n",
       "  </tbody>\n",
       "</table>\n",
       "</div>"
      ],
      "text/plain": [
       "            prcp\n",
       "date            \n",
       "2016-08-23  0.00\n",
       "2016-08-23  0.15\n",
       "2016-08-23  0.05\n",
       "2016-08-23   NaN\n",
       "2016-08-23  0.02\n",
       "2016-08-23  1.79\n",
       "2016-08-23  0.70\n",
       "2016-08-24  1.45\n",
       "2016-08-24  2.15\n",
       "2016-08-24  1.22\n",
       "2016-08-24  2.15\n",
       "2016-08-24  2.28\n",
       "2016-08-24  0.08\n",
       "2016-08-24   NaN\n",
       "2016-08-25  0.06\n",
       "2016-08-25  0.11\n",
       "2016-08-25  0.21\n",
       "2016-08-25  0.00\n",
       "2016-08-25  0.00\n",
       "2016-08-25  0.08\n",
       "2016-08-25  0.08\n",
       "2016-08-26  0.00\n",
       "2016-08-26  0.04\n",
       "2016-08-26  0.01\n",
       "2016-08-26  0.03\n",
       "2016-08-26  0.00\n",
       "2016-08-26  0.02\n",
       "2016-08-27  0.00\n",
       "2016-08-27  0.18\n",
       "2016-08-27  0.02"
      ]
     },
     "execution_count": 15,
     "metadata": {},
     "output_type": "execute_result"
    }
   ],
   "source": [
    "# Save the query results as a Pandas DataFrame and set the index to the date column\n",
    "precipitation_12_months_df = pd.read_sql_query(precipitation_12_months_query.statement,session.bind)\n",
    "precipitation_12_months_df.set_index('date', inplace=True)\n",
    "\n",
    "# Sort the dataframe by date\n",
    "precipitation_12_months_df = precipitation_12_months_df.sort_values(by='date',ascending=True)\n",
    "precipitation_12_months_df.head(30)\n"
   ]
  },
  {
   "cell_type": "code",
   "execution_count": 16,
   "metadata": {
    "scrolled": true
   },
   "outputs": [
    {
     "data": {
      "image/png": "[encoded data removed]",
      "text/plain": [
       "<Figure size 432x432 with 1 Axes>"
      ]
     },
     "metadata": {
      "needs_background": "light"
     },
     "output_type": "display_data"
    }
   ],
   "source": [
    "# Use Pandas Plotting with Matplotlib to plot the data\n",
    "precipitation_12_months_df.plot.line(figsize=(6,6))\n",
    "plt.ylabel('Inches',fontsize=18)\n",
    "plt.xlabel('Date',fontsize=18)\n",
    "plt.title('Preceiptation for all Stations by date',fontsize=18)\n",
    "plt.xticks(rotation=90)\n",
    "plt.legend(['precipitation'])\n",
    "plt.tight_layout()\n",
    "plt.savefig('Images/precipitation.png')\n",
    "plt.show()\n"
   ]
  },
  {
   "cell_type": "code",
   "execution_count": 17,
   "metadata": {
    "scrolled": true
   },
   "outputs": [
    {
     "data": {
      "text/html": [
       "<div>\n",
       "<style scoped>\n",
       "    .dataframe tbody tr th:only-of-type {\n",
       "        vertical-align: middle;\n",
       "    }\n",
       "\n",
       "    .dataframe tbody tr th {\n",
       "        vertical-align: top;\n",
       "    }\n",
       "\n",
       "    .dataframe thead th {\n",
       "        text-align: right;\n",
       "    }\n",
       "</style>\n",
       "<table border=\"1\" class=\"dataframe\">\n",
       "  <thead>\n",
       "    <tr style=\"text-align: right;\">\n",
       "      <th></th>\n",
       "      <th>prcp</th>\n",
       "    </tr>\n",
       "  </thead>\n",
       "  <tbody>\n",
       "    <tr>\n",
       "      <td>count</td>\n",
       "      <td>2021.000000</td>\n",
       "    </tr>\n",
       "    <tr>\n",
       "      <td>mean</td>\n",
       "      <td>0.177279</td>\n",
       "    </tr>\n",
       "    <tr>\n",
       "      <td>std</td>\n",
       "      <td>0.461190</td>\n",
       "    </tr>\n",
       "    <tr>\n",
       "      <td>min</td>\n",
       "      <td>0.000000</td>\n",
       "    </tr>\n",
       "    <tr>\n",
       "      <td>25%</td>\n",
       "      <td>0.000000</td>\n",
       "    </tr>\n",
       "    <tr>\n",
       "      <td>50%</td>\n",
       "      <td>0.020000</td>\n",
       "    </tr>\n",
       "    <tr>\n",
       "      <td>75%</td>\n",
       "      <td>0.130000</td>\n",
       "    </tr>\n",
       "    <tr>\n",
       "      <td>max</td>\n",
       "      <td>6.700000</td>\n",
       "    </tr>\n",
       "  </tbody>\n",
       "</table>\n",
       "</div>"
      ],
      "text/plain": [
       "              prcp\n",
       "count  2021.000000\n",
       "mean      0.177279\n",
       "std       0.461190\n",
       "min       0.000000\n",
       "25%       0.000000\n",
       "50%       0.020000\n",
       "75%       0.130000\n",
       "max       6.700000"
      ]
     },
     "execution_count": 17,
     "metadata": {},
     "output_type": "execute_result"
    }
   ],
   "source": [
    "# Use Pandas to calcualte the summary statistics for the precipitation data\n",
    "describe_df = precipitation_12_months_df.describe()\n",
    "describe_df"
   ]
  },
  {
   "cell_type": "code",
   "execution_count": 18,
   "metadata": {},
   "outputs": [
    {
     "data": {
      "image/png": "[encoded data removed]",
      "text/plain": [
       "<Figure size 1440x288 with 1 Axes>"
      ]
     },
     "metadata": {
      "needs_background": "light"
     },
     "output_type": "display_data"
    }
   ],
   "source": [
    "# Create a figure of the dataframe in order to output to a png file\n",
    "fig, ax = plt.subplots(figsize=(20,4)) # set size frame\n",
    "ax.xaxis.set_visible(False)  # hide the x axis\n",
    "ax.yaxis.set_visible(False)  # hide the y axis\n",
    "ax.set_frame_on(False)  # no visible frame, uncomment if size is ok\n",
    "tabla = table(ax, describe_df, loc='center', colWidths=[0.11]*len(describe_df.columns))  \n",
    "tabla.auto_set_font_size(False) # Activate set fontsize manually\n",
    "tabla.set_fontsize(20) # if ++fontsize is necessary ++colWidths\n",
    "tabla.scale(2,2) # change size table\n",
    "\n",
    "# Save the describe data to describe.png\n",
    "plt.savefig('Images/describe.png', transparent=True)"
   ]
  },
  {
   "cell_type": "code",
   "execution_count": 19,
   "metadata": {},
   "outputs": [
    {
     "name": "stdout",
     "output_type": "stream",
     "text": [
      " There are 9 stations in the station table\n",
      " There are 9 distinct stations in the measurement table\n"
     ]
    }
   ],
   "source": [
    "# Design a query to show how many stations are available in this dataset?\n",
    "no_stations = session.query(Station.station).count()\n",
    "print(f' There are {no_stations} stations in the station table')\n",
    "\n",
    "no_measurement_stations = session.query(Measurement.station).distinct().count()\n",
    "print(f' There are {no_measurement_stations} distinct stations in the measurement table')"
   ]
  },
  {
   "cell_type": "code",
   "execution_count": 20,
   "metadata": {},
   "outputs": [
    {
     "name": "stdout",
     "output_type": "stream",
     "text": [
      "The Most Active Stations in Descending Order\n",
      "--------------------------------------------\n",
      "  Station   Count\n",
      "----------- -----\n",
      "USC00519281  2772\n",
      "USC00519397  2724\n",
      "USC00513117  2709\n",
      "USC00519523  2669\n",
      "USC00516128  2612\n",
      "USC00514830  2202\n",
      "USC00511918  1979\n",
      "USC00517948  1372\n",
      "USC00518838   511\n"
     ]
    }
   ],
   "source": [
    "# What are the most active stations? (i.e. what stations have the most rows)?\n",
    "# List the stations and the counts in descending order.\n",
    "most_active_stations = session.query(Measurement.station, func.count(Measurement.station)).\\\n",
    "                            group_by(Measurement.station).\\\n",
    "                            order_by(func.count(Measurement.station).desc()).all()\n",
    "\n",
    "# Output the results of the count query\n",
    "print('The Most Active Stations in Descending Order')\n",
    "print('--------------------------------------------')\n",
    "print('  Station   Count')\n",
    "print('----------- -----')\n",
    "for station,station_count in most_active_stations:\n",
    "    print(station,str(station_count).rjust(5,' '))\n"
   ]
  },
  {
   "cell_type": "code",
   "execution_count": 21,
   "metadata": {},
   "outputs": [],
   "source": [
    "# Using the station id from the previous query, calculate the lowest temperature recorded, \n",
    "# highest temperature recorded, and average temperature of the most active station?\n",
    "#--------------------------------------------------------------------------------------------"
   ]
  },
  {
   "cell_type": "code",
   "execution_count": 22,
   "metadata": {},
   "outputs": [
    {
     "name": "stdout",
     "output_type": "stream",
     "text": [
      "The most active station ID is USC00519281\n"
     ]
    }
   ],
   "source": [
    "# Get the most active station ID\n",
    "most_active_station = session.query(Measurement.station).\\\n",
    "                            group_by(Measurement.station).\\\n",
    "                            order_by(func.count(Measurement.station).desc()).first()[0]\n",
    "print(f'The most active station ID is {most_active_station}')"
   ]
  },
  {
   "cell_type": "code",
   "execution_count": 23,
   "metadata": {},
   "outputs": [
    {
     "name": "stdout",
     "output_type": "stream",
     "text": [
      "The maximum temperature for station USC00519281 is 85.0\n"
     ]
    }
   ],
   "source": [
    "# Calculate the maximum temperature for the most active station\n",
    "max_temp_for_most_active_station = session.query(func.max(Measurement.tobs)).\\\n",
    "                            filter_by(station= most_active_station).all()[0][0]\n",
    "print(f'The maximum temperature for station {most_active_station} is {max_temp_for_most_active_station}')"
   ]
  },
  {
   "cell_type": "code",
   "execution_count": 24,
   "metadata": {},
   "outputs": [
    {
     "name": "stdout",
     "output_type": "stream",
     "text": [
      "The minimum temperature for station USC00519281 is 85.0\n"
     ]
    }
   ],
   "source": [
    "# Calculate the minimum temperature for the most active station\n",
    "min_temp_for_most_active_station = session.query(func.min(Measurement.tobs)).\\\n",
    "                            filter_by(station= most_active_station).all()[0][0]\n",
    "print(f'The minimum temperature for station {most_active_station} is {max_temp_for_most_active_station}')"
   ]
  },
  {
   "cell_type": "code",
   "execution_count": 25,
   "metadata": {},
   "outputs": [
    {
     "name": "stdout",
     "output_type": "stream",
     "text": [
      "The average temperature for station USC00519281 is 71.66\n"
     ]
    }
   ],
   "source": [
    "# Calculate the average temperature for the most active station\n",
    "avg_temp_for_most_active_station = round(session.query(func.avg(Measurement.tobs)).\\\n",
    "                            filter_by(station= most_active_station).all()[0][0],2)\n",
    "print(f'The average temperature for station {most_active_station} is {avg_temp_for_most_active_station}')"
   ]
  },
  {
   "cell_type": "code",
   "execution_count": 26,
   "metadata": {},
   "outputs": [
    {
     "data": {
      "text/html": [
       "<div>\n",
       "<style scoped>\n",
       "    .dataframe tbody tr th:only-of-type {\n",
       "        vertical-align: middle;\n",
       "    }\n",
       "\n",
       "    .dataframe tbody tr th {\n",
       "        vertical-align: top;\n",
       "    }\n",
       "\n",
       "    .dataframe thead th {\n",
       "        text-align: right;\n",
       "    }\n",
       "</style>\n",
       "<table border=\"1\" class=\"dataframe\">\n",
       "  <thead>\n",
       "    <tr style=\"text-align: right;\">\n",
       "      <th></th>\n",
       "      <th>Most Active Station ID</th>\n",
       "      <th>Most Active Station Max Temp</th>\n",
       "      <th>Most Active Station Min Temp</th>\n",
       "      <th>Most Active Station Avg Temp</th>\n",
       "    </tr>\n",
       "  </thead>\n",
       "  <tbody>\n",
       "    <tr>\n",
       "      <td>0</td>\n",
       "      <td>USC00519281</td>\n",
       "      <td>85.0</td>\n",
       "      <td>54.0</td>\n",
       "      <td>71.66</td>\n",
       "    </tr>\n",
       "  </tbody>\n",
       "</table>\n",
       "</div>"
      ],
      "text/plain": [
       "  Most Active Station ID  Most Active Station Max Temp  \\\n",
       "0            USC00519281                          85.0   \n",
       "\n",
       "   Most Active Station Min Temp  Most Active Station Avg Temp  \n",
       "0                          54.0                         71.66  "
      ]
     },
     "execution_count": 26,
     "metadata": {},
     "output_type": "execute_result"
    }
   ],
   "source": [
    "# Place the data into a dataframe\n",
    "most_active_summary_info = {\"Most Active Station ID\": most_active_station,\n",
    "                                       \"Most Active Station Max Temp\": [max_temp_for_most_active_station],\n",
    "                                       \"Most Active Station Min Temp\": [min_temp_for_most_active_station],\n",
    "                                       \"Most Active Station Avg Temp\": [avg_temp_for_most_active_station]}\n",
    "\n",
    "most_active_station_df = pd.DataFrame(most_active_summary_info)\n",
    "most_active_station_df"
   ]
  },
  {
   "cell_type": "code",
   "execution_count": 27,
   "metadata": {
    "scrolled": true
   },
   "outputs": [
    {
     "name": "stdout",
     "output_type": "stream",
     "text": [
      "The maximum, minimum, & average temperature per station in most active descending order\n",
      "---------------------------------------------------------------------------------------\n",
      "  Station   Count Max  Min   Avg\n",
      "----------- ----- ---- ---- -----\n",
      "USC00519281  2772 85.0 54.0 71.66\n",
      "USC00519397  2724 87.0 56.0 74.55\n",
      "USC00513117  2709 85.0 59.0 72.69\n",
      "USC00519523  2669 85.0 56.0 74.54\n",
      "USC00516128  2612 84.0 58.0 70.92\n",
      "USC00514830  2202 85.0 58.0 74.87\n",
      "USC00511918  1979 87.0 53.0 71.62\n",
      "USC00517948  1372 87.0 58.0 74.68\n",
      "USC00518838   511 83.0 58.0 72.72\n"
     ]
    }
   ],
   "source": [
    "# Calculate the minimum temperature per station\n",
    "temp_by_station = session.query(Measurement.station, \\\n",
    "                         func.count(Measurement.station), \\\n",
    "                           func.max(Measurement.tobs), \\\n",
    "                           func.min(Measurement.tobs), \\\n",
    "                           func.avg(Measurement.tobs)).\\\n",
    "                            group_by(Measurement.station).\\\n",
    "                            order_by(func.count(Measurement.station).desc()).all()\n",
    "print('The maximum, minimum, & average temperature per station in most active descending order')\n",
    "print('---------------------------------------------------------------------------------------')\n",
    "print('  Station   Count Max  Min   Avg')\n",
    "print('----------- ----- ---- ---- -----')\n",
    "for station,station_count,station_max,station_min,station_avg in temp_by_station:\n",
    "    print(station,str(station_count).rjust(5,' '),station_max,station_min,round(station_avg,2))"
   ]
  },
  {
   "cell_type": "code",
   "execution_count": 28,
   "metadata": {},
   "outputs": [],
   "source": [
    "# Choose the station with the highest number of temperature observations.\n",
    "# Query the last 12 months of temperature observation data for this station and plot the results as a histogram\n",
    "#--------------------------------------------------------------------------------------------------------------"
   ]
  },
  {
   "cell_type": "code",
   "execution_count": 29,
   "metadata": {},
   "outputs": [
    {
     "name": "stdout",
     "output_type": "stream",
     "text": [
      "2017\n",
      "8\n",
      "18\n"
     ]
    }
   ],
   "source": [
    "# Figure out the last date in the measurement table for the most active station\n",
    "most_active_last_measurement_record = session.query(Measurement.date).filter_by(station= most_active_station).order_by(Measurement.date.desc()).first()\n",
    "\n",
    "most_active_last_measurement_year = int(most_active_last_measurement_record[0][:4])\n",
    "most_active_last_measurement_month = int(most_active_last_measurement_record[0][5:7])\n",
    "most_active_last_measurement_day = int(most_active_last_measurement_record[0][8:10])\n",
    "\n",
    "print(most_active_last_measurement_year)\n",
    "print(most_active_last_measurement_month)\n",
    "print(most_active_last_measurement_day)"
   ]
  },
  {
   "cell_type": "code",
   "execution_count": 30,
   "metadata": {},
   "outputs": [
    {
     "name": "stdout",
     "output_type": "stream",
     "text": [
      "2016-08-18\n"
     ]
    }
   ],
   "source": [
    "most_active_date_year_ago = dt.date(most_active_last_measurement_year,\\\n",
    "                                    most_active_last_measurement_month,\\\n",
    "                                    most_active_last_measurement_day) - relativedelta(years=1)\n",
    "print(most_active_date_year_ago)"
   ]
  },
  {
   "cell_type": "code",
   "execution_count": 31,
   "metadata": {},
   "outputs": [
    {
     "data": {
      "text/plain": [
       "<sqlalchemy.orm.query.Query at 0x1d1b695f488>"
      ]
     },
     "execution_count": 31,
     "metadata": {},
     "output_type": "execute_result"
    }
   ],
   "source": [
    "most_active_station_data_query = session.query(Measurement.date,Measurement.tobs).\\\n",
    "                                        filter(Measurement.station== most_active_station,\\\n",
    "                                               Measurement.date >= most_active_date_year_ago)\n",
    "most_active_station_data_query"
   ]
  },
  {
   "cell_type": "code",
   "execution_count": 32,
   "metadata": {},
   "outputs": [
    {
     "data": {
      "text/html": [
       "<div>\n",
       "<style scoped>\n",
       "    .dataframe tbody tr th:only-of-type {\n",
       "        vertical-align: middle;\n",
       "    }\n",
       "\n",
       "    .dataframe tbody tr th {\n",
       "        vertical-align: top;\n",
       "    }\n",
       "\n",
       "    .dataframe thead th {\n",
       "        text-align: right;\n",
       "    }\n",
       "</style>\n",
       "<table border=\"1\" class=\"dataframe\">\n",
       "  <thead>\n",
       "    <tr style=\"text-align: right;\">\n",
       "      <th></th>\n",
       "      <th>tobs</th>\n",
       "    </tr>\n",
       "    <tr>\n",
       "      <th>date</th>\n",
       "      <th></th>\n",
       "    </tr>\n",
       "  </thead>\n",
       "  <tbody>\n",
       "    <tr>\n",
       "      <td>2016-08-18</td>\n",
       "      <td>80.0</td>\n",
       "    </tr>\n",
       "    <tr>\n",
       "      <td>2016-08-19</td>\n",
       "      <td>79.0</td>\n",
       "    </tr>\n",
       "    <tr>\n",
       "      <td>2016-08-20</td>\n",
       "      <td>81.0</td>\n",
       "    </tr>\n",
       "    <tr>\n",
       "      <td>2016-08-21</td>\n",
       "      <td>79.0</td>\n",
       "    </tr>\n",
       "    <tr>\n",
       "      <td>2016-08-22</td>\n",
       "      <td>78.0</td>\n",
       "    </tr>\n",
       "    <tr>\n",
       "      <td>2016-08-23</td>\n",
       "      <td>77.0</td>\n",
       "    </tr>\n",
       "    <tr>\n",
       "      <td>2016-08-24</td>\n",
       "      <td>77.0</td>\n",
       "    </tr>\n",
       "    <tr>\n",
       "      <td>2016-08-25</td>\n",
       "      <td>80.0</td>\n",
       "    </tr>\n",
       "    <tr>\n",
       "      <td>2016-08-26</td>\n",
       "      <td>80.0</td>\n",
       "    </tr>\n",
       "    <tr>\n",
       "      <td>2016-08-27</td>\n",
       "      <td>75.0</td>\n",
       "    </tr>\n",
       "    <tr>\n",
       "      <td>2016-08-28</td>\n",
       "      <td>73.0</td>\n",
       "    </tr>\n",
       "    <tr>\n",
       "      <td>2016-08-29</td>\n",
       "      <td>78.0</td>\n",
       "    </tr>\n",
       "    <tr>\n",
       "      <td>2016-08-30</td>\n",
       "      <td>77.0</td>\n",
       "    </tr>\n",
       "    <tr>\n",
       "      <td>2016-08-31</td>\n",
       "      <td>78.0</td>\n",
       "    </tr>\n",
       "    <tr>\n",
       "      <td>2016-09-01</td>\n",
       "      <td>80.0</td>\n",
       "    </tr>\n",
       "    <tr>\n",
       "      <td>2016-09-02</td>\n",
       "      <td>80.0</td>\n",
       "    </tr>\n",
       "    <tr>\n",
       "      <td>2016-09-03</td>\n",
       "      <td>78.0</td>\n",
       "    </tr>\n",
       "    <tr>\n",
       "      <td>2016-09-04</td>\n",
       "      <td>78.0</td>\n",
       "    </tr>\n",
       "    <tr>\n",
       "      <td>2016-09-05</td>\n",
       "      <td>78.0</td>\n",
       "    </tr>\n",
       "    <tr>\n",
       "      <td>2016-09-06</td>\n",
       "      <td>73.0</td>\n",
       "    </tr>\n",
       "    <tr>\n",
       "      <td>2016-09-07</td>\n",
       "      <td>74.0</td>\n",
       "    </tr>\n",
       "    <tr>\n",
       "      <td>2016-09-08</td>\n",
       "      <td>80.0</td>\n",
       "    </tr>\n",
       "    <tr>\n",
       "      <td>2016-09-09</td>\n",
       "      <td>79.0</td>\n",
       "    </tr>\n",
       "    <tr>\n",
       "      <td>2016-09-10</td>\n",
       "      <td>77.0</td>\n",
       "    </tr>\n",
       "    <tr>\n",
       "      <td>2016-09-11</td>\n",
       "      <td>80.0</td>\n",
       "    </tr>\n",
       "    <tr>\n",
       "      <td>2016-09-12</td>\n",
       "      <td>76.0</td>\n",
       "    </tr>\n",
       "    <tr>\n",
       "      <td>2016-09-13</td>\n",
       "      <td>79.0</td>\n",
       "    </tr>\n",
       "    <tr>\n",
       "      <td>2016-09-14</td>\n",
       "      <td>75.0</td>\n",
       "    </tr>\n",
       "    <tr>\n",
       "      <td>2016-09-15</td>\n",
       "      <td>79.0</td>\n",
       "    </tr>\n",
       "    <tr>\n",
       "      <td>2016-09-16</td>\n",
       "      <td>78.0</td>\n",
       "    </tr>\n",
       "  </tbody>\n",
       "</table>\n",
       "</div>"
      ],
      "text/plain": [
       "            tobs\n",
       "date            \n",
       "2016-08-18  80.0\n",
       "2016-08-19  79.0\n",
       "2016-08-20  81.0\n",
       "2016-08-21  79.0\n",
       "2016-08-22  78.0\n",
       "2016-08-23  77.0\n",
       "2016-08-24  77.0\n",
       "2016-08-25  80.0\n",
       "2016-08-26  80.0\n",
       "2016-08-27  75.0\n",
       "2016-08-28  73.0\n",
       "2016-08-29  78.0\n",
       "2016-08-30  77.0\n",
       "2016-08-31  78.0\n",
       "2016-09-01  80.0\n",
       "2016-09-02  80.0\n",
       "2016-09-03  78.0\n",
       "2016-09-04  78.0\n",
       "2016-09-05  78.0\n",
       "2016-09-06  73.0\n",
       "2016-09-07  74.0\n",
       "2016-09-08  80.0\n",
       "2016-09-09  79.0\n",
       "2016-09-10  77.0\n",
       "2016-09-11  80.0\n",
       "2016-09-12  76.0\n",
       "2016-09-13  79.0\n",
       "2016-09-14  75.0\n",
       "2016-09-15  79.0\n",
       "2016-09-16  78.0"
      ]
     },
     "execution_count": 32,
     "metadata": {},
     "output_type": "execute_result"
    }
   ],
   "source": [
    "# Save the query results as a Pandas DataFrame and set the index to the date column\n",
    "most_active_precipitation_12_months_df = pd.read_sql_query(most_active_station_data_query.statement,session.bind)\n",
    "most_active_precipitation_12_months_df.set_index('date', inplace=True)\n",
    "\n",
    "# Sort the dataframe by date\n",
    "most_active_precipitation_12_months_df = most_active_precipitation_12_months_df.sort_values(by='date',ascending=True)\n",
    "most_active_precipitation_12_months_df.head(30)\n"
   ]
  },
  {
   "cell_type": "code",
   "execution_count": 33,
   "metadata": {},
   "outputs": [
    {
     "data": {
      "image/png": "[encoded data removed]",
      "text/plain": [
       "<Figure size 720x504 with 1 Axes>"
      ]
     },
     "metadata": {
      "needs_background": "light"
     },
     "output_type": "display_data"
    }
   ],
   "source": [
    "# Use Pandas Plotting with Matplotlib to plot the data\n",
    "no_bins = 12\n",
    "most_active_precipitation_12_months_df.plot.hist(bins=no_bins,figsize=(10,7))\n",
    "plt.ylabel('Freqency',fontsize=18)\n",
    "plt.xlabel('Temperature',fontsize=18)\n",
    "plt.title(f'Most Active Station {most_active_station} Temperature Frequency',fontsize=18)\n",
    "# plt.xticks(rotation=90)\n",
    "\n",
    "# plt.tight_laout()\n",
    "plt.savefig('Images/station-histogram.png')\n",
    "plt.show()\n"
   ]
  },
  {
   "cell_type": "markdown",
   "metadata": {},
   "source": [
    "## Bonus Challenge Assignment"
   ]
  },
  {
   "cell_type": "markdown",
   "metadata": {},
   "source": [
    "### Temperature Analysis I"
   ]
  },
  {
   "cell_type": "code",
   "execution_count": 34,
   "metadata": {},
   "outputs": [],
   "source": [
    "# Hawaii is reputed to enjoy mild weather all year. Is there a meaningful difference between the \n",
    "# temperature in, for example, June and December?\n",
    "\n",
    "# Identify the average temperature in June at all stations across all available years in the dataset. \n",
    "# Do the same for December temperature.\n",
    "\n",
    "# Use the t-test to determine whether the difference in the means, \n",
    "# if any, is statistically significant. Will you use a paired t-test, or an unpaired t-test? Why?"
   ]
  },
  {
   "cell_type": "code",
   "execution_count": 35,
   "metadata": {},
   "outputs": [
    {
     "name": "stdout",
     "output_type": "stream",
     "text": [
      "The average June Temperature is 74.94\n",
      "The average December Temperature is 71.04\n"
     ]
    }
   ],
   "source": [
    "june_temps = session.query(Measurement.tobs).\\\n",
    "                    filter(func.strftime(\"%m\", Measurement.date) == \"06\").all()\n",
    "december_temps = session.query(Measurement.tobs).\\\n",
    "                    filter(func.strftime(\"%m\", Measurement.date) == \"12\").all()\n",
    "\n",
    "june_temps_list = list(np.ravel(june_temps))\n",
    "december_temps_list = list(np.ravel(december_temps))\n",
    "\n",
    "june_average = round(mean(june_temps_list),2)\n",
    "december_average = round(mean(december_temps_list),2)\n",
    "\n",
    "print(f'The average June Temperature is {june_average}')\n",
    "print(f'The average December Temperature is {december_average}')"
   ]
  },
  {
   "cell_type": "markdown",
   "metadata": {},
   "source": [
    "Per the Socratic website:\n",
    "    \n",
    "Paired means that both samples consist of the same test subjects. A paired t-test is equivalent to a one-sample t-test.\n",
    "\n",
    "Unpaired means that both samples consist of distinct test subjects. An unpaired t-test is equivalent to a two-sample t-test.\n",
    "\n",
    "# Therefore since June and December are not the same  we need to perform an Unpaired t-test."
   ]
  },
  {
   "cell_type": "code",
   "execution_count": 36,
   "metadata": {},
   "outputs": [
    {
     "data": {
      "text/plain": [
       "Ttest_indResult(statistic=31.355036920962423, pvalue=4.193529835915755e-187)"
      ]
     },
     "execution_count": 36,
     "metadata": {},
     "output_type": "execute_result"
    }
   ],
   "source": [
    "# Perform unpaired (independent) t-test\n",
    "stats.ttest_ind(june_temps_list, december_temps_list, equal_var=False)"
   ]
  },
  {
   "cell_type": "markdown",
   "metadata": {},
   "source": [
    "Null Hypothosis = There is no significant difference between the June and December temperatures\n",
    "Alternative Hypothosis = There is significant difference between June and December temperatures\n",
    "\n",
    "# Since the P value is very close to zero this indicates strong evidence against the null hypothisis, so it should be rejected.  \n",
    "\n"
   ]
  },
  {
   "cell_type": "markdown",
   "metadata": {},
   "source": [
    "### Temperature Analysis II"
   ]
  },
  {
   "cell_type": "code",
   "execution_count": 37,
   "metadata": {},
   "outputs": [
    {
     "name": "stdout",
     "output_type": "stream",
     "text": [
      "[(62.0, 69.57142857142857, 74.0)]\n"
     ]
    }
   ],
   "source": [
    "# This function called `calc_temps` will accept start date and end date in the format '%Y-%m-%d' \n",
    "# and return the minimum, average, and maximum temperatures for that range of dates\n",
    "def calc_temps(start_date, end_date):\n",
    "    \"\"\"TMIN, TAVG, and TMAX for a list of dates.\n",
    "    \n",
    "    Args:\n",
    "        start_date (string): A date string in the format %Y-%m-%d\n",
    "        end_date (string): A date string in the format %Y-%m-%d\n",
    "        \n",
    "    Returns:\n",
    "        TMIN, TAVE, and TMAX\n",
    "    \"\"\"\n",
    "    \n",
    "    return session.query(func.min(Measurement.tobs), func.avg(Measurement.tobs), func.max(Measurement.tobs)).\\\n",
    "        filter(Measurement.date >= start_date).filter(Measurement.date <= end_date).all()\n",
    "\n",
    "# function usage example\n",
    "print(calc_temps('2012-02-28', '2012-03-05'))"
   ]
  },
  {
   "cell_type": "code",
   "execution_count": 38,
   "metadata": {},
   "outputs": [],
   "source": [
    "# Use your previous function `calc_temps` to calculate the tmin, tavg, and tmax \n",
    "# for your trip using the previous year's data for those same dates.\n",
    "# ----------------------------------------------------------------------------------"
   ]
  },
  {
   "cell_type": "code",
   "execution_count": 39,
   "metadata": {},
   "outputs": [
    {
     "name": "stdout",
     "output_type": "stream",
     "text": [
      "2016-12-20 2016-12-31 2015-12-20 2015-12-31\n"
     ]
    }
   ],
   "source": [
    "# Our vacation is set to 12/20/2016 - 12/31/2016  so we want\n",
    "# to look at the temperatures for the previous year\n",
    "start_trip = dt.date(2016,12,20)\n",
    "end_trip = dt.date(2016,12,31)\n",
    "\n",
    "# Calculate the dates a year back\n",
    "analysis_start_date = start_trip - relativedelta(years=1)\n",
    "analysis_end_date = end_trip - relativedelta(years=1)\n",
    "\n",
    "# Output the dates\n",
    "print(start_trip,end_trip,analysis_start_date,analysis_end_date)"
   ]
  },
  {
   "cell_type": "code",
   "execution_count": 40,
   "metadata": {},
   "outputs": [
    {
     "name": "stdout",
     "output_type": "stream",
     "text": [
      "Our trip is scheduled for 2016-12-20 to 2016-12-31:\n",
      "We are using the previous year to compare 2015-12-20 to 2015-12-31\n",
      "Maximum Temperature = 79.0\n",
      "Minimum Temperature = 67.0\n",
      "Averge Temperature  = 73.21\n"
     ]
    }
   ],
   "source": [
    "# Get the temperature max,min and average for the trip dates\n",
    "trip_min, trip_avg, trip_max = calc_temps(analysis_start_date,analysis_end_date)[0]\n",
    "\n",
    "# Output the information\n",
    "print(f'Our trip is scheduled for {start_trip} to {end_trip}:')\n",
    "print(f'We are using the previous year to compare {analysis_start_date} to {analysis_end_date}')\n",
    "print(f'Maximum Temperature = {trip_max}')\n",
    "print(f'Minimum Temperature = {trip_min}')\n",
    "print(f'Averge Temperature  = {round(trip_avg,2)}')"
   ]
  },
  {
   "cell_type": "code",
   "execution_count": 41,
   "metadata": {
    "scrolled": true
   },
   "outputs": [],
   "source": [
    "# Plot the results from your previous query as a bar chart. \n",
    "# Use \"Trip Avg Temp\" as your Title\n",
    "# Use the average temperature for the y value\n",
    "# Use the peak-to-peak (tmax-tmin) value as the y error bar (yerr)\n",
    "# -----------------------------------------------------------------|"
   ]
  },
  {
   "cell_type": "code",
   "execution_count": 42,
   "metadata": {},
   "outputs": [
    {
     "data": {
      "image/png": "[encoded data removed]",
      "text/plain": [
       "<Figure size 180x432 with 1 Axes>"
      ]
     },
     "metadata": {
      "needs_background": "light"
     },
     "output_type": "display_data"
    }
   ],
   "source": [
    "# Setup the x and y axis\n",
    "x_axis=np.arange(1)\n",
    "y_axis = trip_avg\n",
    "\n",
    "# Setup a variable for the difference between the max and min\n",
    "error = trip_max - trip_min\n",
    "\n",
    "# Create the figure\n",
    "fig, ax = plt.subplots(figsize=(2.5,6))\n",
    "ax.bar(x_axis, y_axis, yerr=error, align='center', alpha=0.5, ecolor='black', color='#f7b79f', capsize=3)\n",
    "\n",
    "# Setup the x and y labels and ticks\n",
    "ax.set_ylabel('Temp (F)')\n",
    "ax.set_yticks([0,20,40,60,80,100])\n",
    "ax.set_xticks([])\n",
    "ax.set_title('Trip Avg Temp\\n')\n",
    "\n",
    "# Setup the grids\n",
    "ax.xaxis.grid(False)\n",
    "ax.yaxis.grid(True)\n",
    "\n",
    "# Save the figure and show\n",
    "plt.tight_layout()\n",
    "plt.savefig('Images/temperature.png')\n",
    "plt.show()"
   ]
  },
  {
   "cell_type": "markdown",
   "metadata": {},
   "source": [
    "### Daily Rainfall Average"
   ]
  },
  {
   "cell_type": "code",
   "execution_count": 43,
   "metadata": {},
   "outputs": [
    {
     "data": {
      "text/html": [
       "<div>\n",
       "<style scoped>\n",
       "    .dataframe tbody tr th:only-of-type {\n",
       "        vertical-align: middle;\n",
       "    }\n",
       "\n",
       "    .dataframe tbody tr th {\n",
       "        vertical-align: top;\n",
       "    }\n",
       "\n",
       "    .dataframe thead th {\n",
       "        text-align: right;\n",
       "    }\n",
       "</style>\n",
       "<table border=\"1\" class=\"dataframe\">\n",
       "  <thead>\n",
       "    <tr style=\"text-align: right;\">\n",
       "      <th></th>\n",
       "      <th>Station</th>\n",
       "      <th>Name</th>\n",
       "      <th>Latitude</th>\n",
       "      <th>Longitude</th>\n",
       "      <th>Elevation</th>\n",
       "      <th>Total Precipitation</th>\n",
       "    </tr>\n",
       "  </thead>\n",
       "  <tbody>\n",
       "    <tr>\n",
       "      <td>0</td>\n",
       "      <td>USC00516128</td>\n",
       "      <td>MANOA LYON ARBO 785.2, HI US</td>\n",
       "      <td>21.33310</td>\n",
       "      <td>-157.80250</td>\n",
       "      <td>152.4</td>\n",
       "      <td>6.34</td>\n",
       "    </tr>\n",
       "    <tr>\n",
       "      <td>1</td>\n",
       "      <td>USC00519281</td>\n",
       "      <td>WAIHEE 837.5, HI US</td>\n",
       "      <td>21.45167</td>\n",
       "      <td>-157.84889</td>\n",
       "      <td>32.9</td>\n",
       "      <td>3.03</td>\n",
       "    </tr>\n",
       "    <tr>\n",
       "      <td>2</td>\n",
       "      <td>USC00513117</td>\n",
       "      <td>KANEOHE 838.1, HI US</td>\n",
       "      <td>21.42340</td>\n",
       "      <td>-157.80150</td>\n",
       "      <td>14.6</td>\n",
       "      <td>1.91</td>\n",
       "    </tr>\n",
       "    <tr>\n",
       "      <td>3</td>\n",
       "      <td>USC00519523</td>\n",
       "      <td>WAIMANALO EXPERIMENTAL FARM, HI US</td>\n",
       "      <td>21.33556</td>\n",
       "      <td>-157.71139</td>\n",
       "      <td>19.5</td>\n",
       "      <td>0.96</td>\n",
       "    </tr>\n",
       "    <tr>\n",
       "      <td>4</td>\n",
       "      <td>USC00519397</td>\n",
       "      <td>WAIKIKI 717.2, HI US</td>\n",
       "      <td>21.27160</td>\n",
       "      <td>-157.81680</td>\n",
       "      <td>3.0</td>\n",
       "      <td>0.50</td>\n",
       "    </tr>\n",
       "    <tr>\n",
       "      <td>5</td>\n",
       "      <td>USC00514830</td>\n",
       "      <td>KUALOA RANCH HEADQUARTERS 886.9, HI US</td>\n",
       "      <td>21.52130</td>\n",
       "      <td>-157.83740</td>\n",
       "      <td>7.0</td>\n",
       "      <td>0.45</td>\n",
       "    </tr>\n",
       "    <tr>\n",
       "      <td>6</td>\n",
       "      <td>USC00517948</td>\n",
       "      <td>PEARL CITY, HI US</td>\n",
       "      <td>21.39340</td>\n",
       "      <td>-157.97510</td>\n",
       "      <td>11.9</td>\n",
       "      <td>0.00</td>\n",
       "    </tr>\n",
       "  </tbody>\n",
       "</table>\n",
       "</div>"
      ],
      "text/plain": [
       "       Station                                    Name  Latitude  Longitude  \\\n",
       "0  USC00516128            MANOA LYON ARBO 785.2, HI US  21.33310 -157.80250   \n",
       "1  USC00519281                     WAIHEE 837.5, HI US  21.45167 -157.84889   \n",
       "2  USC00513117                    KANEOHE 838.1, HI US  21.42340 -157.80150   \n",
       "3  USC00519523      WAIMANALO EXPERIMENTAL FARM, HI US  21.33556 -157.71139   \n",
       "4  USC00519397                    WAIKIKI 717.2, HI US  21.27160 -157.81680   \n",
       "5  USC00514830  KUALOA RANCH HEADQUARTERS 886.9, HI US  21.52130 -157.83740   \n",
       "6  USC00517948                       PEARL CITY, HI US  21.39340 -157.97510   \n",
       "\n",
       "   Elevation  Total Precipitation  \n",
       "0      152.4                 6.34  \n",
       "1       32.9                 3.03  \n",
       "2       14.6                 1.91  \n",
       "3       19.5                 0.96  \n",
       "4        3.0                 0.50  \n",
       "5        7.0                 0.45  \n",
       "6       11.9                 0.00  "
      ]
     },
     "execution_count": 43,
     "metadata": {},
     "output_type": "execute_result"
    }
   ],
   "source": [
    "# Calculate the total amount of rainfall per weather station for your trip dates using the previous year's matching dates.\n",
    "# Sort this in descending order by precipitation amount and list the station, name, latitude, longitude, and elevation\n",
    "sel = [Measurement.station, Station.name, Station.latitude, Station.longitude, Station.elevation, func.sum(Measurement.prcp)]\n",
    "\n",
    "temp_by_station = session.query(*sel).\\\n",
    "                                filter(Measurement.date >= analysis_start_date,\n",
    "                                     Measurement.date <= analysis_end_date,\n",
    "                                    Measurement.station == Station.station).\\\n",
    "                            group_by(Measurement.station).\\\n",
    "                            order_by(func.sum(Measurement.prcp).desc()).all()\n",
    "\n",
    "temp_by_station_df = pd.DataFrame(temp_by_station, columns=[\"Station\", \"Name\", \"Latitude\", \"Longitude\", \"Elevation\", \"Total Precipitation\"])\n",
    "temp_by_station_df['Total Precipitation'] = temp_by_station_df['Total Precipitation'].fillna(0)\n",
    "temp_by_station_df\n"
   ]
  },
  {
   "cell_type": "code",
   "execution_count": 44,
   "metadata": {},
   "outputs": [
    {
     "data": {
      "text/plain": [
       "[(62.0, 69.15384615384616, 77.0)]"
      ]
     },
     "execution_count": 44,
     "metadata": {},
     "output_type": "execute_result"
    }
   ],
   "source": [
    "# Create a query that will calculate the daily normals \n",
    "# (i.e. the averages for tmin, tmax, and tavg for all historic data matching a specific month and day)\n",
    "\n",
    "def daily_normals(date):\n",
    "    \"\"\"Daily Normals.\n",
    "    \n",
    "    Args:\n",
    "        date (str): A date string in the format '%m-%d'\n",
    "        \n",
    "    Returns:\n",
    "        A list of tuples containing the daily normals, tmin, tavg, and tmax\n",
    "    \n",
    "    \"\"\"\n",
    "    \n",
    "    sel = [func.min(Measurement.tobs), func.avg(Measurement.tobs), func.max(Measurement.tobs)]\n",
    "    return session.query(*sel).filter(func.strftime(\"%m-%d\", Measurement.date) == date).all()\n",
    "    \n",
    "daily_normals(\"01-01\")"
   ]
  },
  {
   "cell_type": "code",
   "execution_count": 45,
   "metadata": {},
   "outputs": [],
   "source": [
    "# calculate the daily normals for your trip\n",
    "# push each tuple of calculations into a list called `normals`\n",
    "# ---------------------------------------------------------------"
   ]
  },
  {
   "cell_type": "code",
   "execution_count": 46,
   "metadata": {},
   "outputs": [
    {
     "data": {
      "text/plain": [
       "[[(65.0, 72.91304347826087, 81.0)],\n",
       " [(67.0, 72.13953488372093, 78.0)],\n",
       " [(67.0, 71.1304347826087, 77.0)],\n",
       " [(61.0, 70.34693877551021, 78.0)],\n",
       " [(62.0, 70.0625, 78.0)],\n",
       " [(60.0, 71.75, 79.0)],\n",
       " [(63.0, 71.44680851063829, 77.0)],\n",
       " [(62.0, 71.91666666666667, 79.0)],\n",
       " [(62.0, 70.52083333333333, 77.0)],\n",
       " [(57.0, 70.29166666666667, 78.0)],\n",
       " [(63.0, 69.86363636363636, 76.0)],\n",
       " [(56.0, 68.27906976744185, 77.0)]]"
      ]
     },
     "execution_count": 46,
     "metadata": {},
     "output_type": "execute_result"
    }
   ],
   "source": [
    "# Set the start and end date of the trip\n",
    "start_trip = dt.date(2016,12,20)\n",
    "end_trip = dt.date(2016,12,31)\n",
    "\n",
    "# Use the start and end date to create a range of dates\n",
    "date_range = pd.date_range(start=start_trip, end=end_trip)\n",
    "\n",
    "# Stip off the year and save a list of %m-%d strings\n",
    "month_day = []\n",
    "for single_date in date_range:\n",
    "    month_day.append(single_date.strftime(\"%m-%d\"))\n",
    "\n",
    "\n",
    "# Loop through the list of %m-%d strings and calculate the normals for each date\n",
    "normals = []\n",
    "for single_date in month_day:\n",
    "    normals.append(daily_normals(single_date))\n",
    "\n",
    "# Output the normals information\n",
    "normals"
   ]
  },
  {
   "cell_type": "code",
   "execution_count": 47,
   "metadata": {},
   "outputs": [
    {
     "data": {
      "text/html": [
       "<div>\n",
       "<style scoped>\n",
       "    .dataframe tbody tr th:only-of-type {\n",
       "        vertical-align: middle;\n",
       "    }\n",
       "\n",
       "    .dataframe tbody tr th {\n",
       "        vertical-align: top;\n",
       "    }\n",
       "\n",
       "    .dataframe thead th {\n",
       "        text-align: right;\n",
       "    }\n",
       "</style>\n",
       "<table border=\"1\" class=\"dataframe\">\n",
       "  <thead>\n",
       "    <tr style=\"text-align: right;\">\n",
       "      <th></th>\n",
       "      <th>tmin</th>\n",
       "      <th>tavg</th>\n",
       "      <th>tmax</th>\n",
       "    </tr>\n",
       "    <tr>\n",
       "      <th>trip_dates</th>\n",
       "      <th></th>\n",
       "      <th></th>\n",
       "      <th></th>\n",
       "    </tr>\n",
       "  </thead>\n",
       "  <tbody>\n",
       "    <tr>\n",
       "      <td>2016-12-20</td>\n",
       "      <td>65.0</td>\n",
       "      <td>72.913043</td>\n",
       "      <td>81.0</td>\n",
       "    </tr>\n",
       "    <tr>\n",
       "      <td>2016-12-21</td>\n",
       "      <td>67.0</td>\n",
       "      <td>72.139535</td>\n",
       "      <td>78.0</td>\n",
       "    </tr>\n",
       "    <tr>\n",
       "      <td>2016-12-22</td>\n",
       "      <td>67.0</td>\n",
       "      <td>71.130435</td>\n",
       "      <td>77.0</td>\n",
       "    </tr>\n",
       "    <tr>\n",
       "      <td>2016-12-23</td>\n",
       "      <td>61.0</td>\n",
       "      <td>70.346939</td>\n",
       "      <td>78.0</td>\n",
       "    </tr>\n",
       "    <tr>\n",
       "      <td>2016-12-24</td>\n",
       "      <td>62.0</td>\n",
       "      <td>70.062500</td>\n",
       "      <td>78.0</td>\n",
       "    </tr>\n",
       "    <tr>\n",
       "      <td>2016-12-25</td>\n",
       "      <td>60.0</td>\n",
       "      <td>71.750000</td>\n",
       "      <td>79.0</td>\n",
       "    </tr>\n",
       "    <tr>\n",
       "      <td>2016-12-26</td>\n",
       "      <td>63.0</td>\n",
       "      <td>71.446809</td>\n",
       "      <td>77.0</td>\n",
       "    </tr>\n",
       "    <tr>\n",
       "      <td>2016-12-27</td>\n",
       "      <td>62.0</td>\n",
       "      <td>71.916667</td>\n",
       "      <td>79.0</td>\n",
       "    </tr>\n",
       "    <tr>\n",
       "      <td>2016-12-28</td>\n",
       "      <td>62.0</td>\n",
       "      <td>70.520833</td>\n",
       "      <td>77.0</td>\n",
       "    </tr>\n",
       "    <tr>\n",
       "      <td>2016-12-29</td>\n",
       "      <td>57.0</td>\n",
       "      <td>70.291667</td>\n",
       "      <td>78.0</td>\n",
       "    </tr>\n",
       "    <tr>\n",
       "      <td>2016-12-30</td>\n",
       "      <td>63.0</td>\n",
       "      <td>69.863636</td>\n",
       "      <td>76.0</td>\n",
       "    </tr>\n",
       "    <tr>\n",
       "      <td>2016-12-31</td>\n",
       "      <td>56.0</td>\n",
       "      <td>68.279070</td>\n",
       "      <td>77.0</td>\n",
       "    </tr>\n",
       "  </tbody>\n",
       "</table>\n",
       "</div>"
      ],
      "text/plain": [
       "            tmin       tavg  tmax\n",
       "trip_dates                       \n",
       "2016-12-20  65.0  72.913043  81.0\n",
       "2016-12-21  67.0  72.139535  78.0\n",
       "2016-12-22  67.0  71.130435  77.0\n",
       "2016-12-23  61.0  70.346939  78.0\n",
       "2016-12-24  62.0  70.062500  78.0\n",
       "2016-12-25  60.0  71.750000  79.0\n",
       "2016-12-26  63.0  71.446809  77.0\n",
       "2016-12-27  62.0  71.916667  79.0\n",
       "2016-12-28  62.0  70.520833  77.0\n",
       "2016-12-29  57.0  70.291667  78.0\n",
       "2016-12-30  63.0  69.863636  76.0\n",
       "2016-12-31  56.0  68.279070  77.0"
      ]
     },
     "execution_count": 47,
     "metadata": {},
     "output_type": "execute_result"
    }
   ],
   "source": [
    "# Load the previous query results into a Pandas DataFrame and add the `trip_dates` range as the `date` index\n",
    "\n",
    "# Create lists for min, max, avg\n",
    "trip_dates_min = []\n",
    "trip_dates_max = []\n",
    "trip_dates_avg = []\n",
    "\n",
    "# Update the normals information into the min, max, and avg lists\n",
    "for index, single_date in enumerate(month_day):\n",
    "    for min_value, avg_value, max_value in normals[index]:\n",
    "        trip_dates_min.append(min_value)\n",
    "        trip_dates_avg.append(avg_value)\n",
    "        trip_dates_max.append(max_value)\n",
    "\n",
    "# Create a datafr\n",
    "trip_dates_df = pd.DataFrame({\n",
    "                              \"trip_dates\": date_range,\n",
    "                              \"tmin\": trip_dates_min,\n",
    "                              \"tavg\": trip_dates_avg,\n",
    "                              \"tmax\": trip_dates_max\n",
    "                             })\n",
    "\n",
    "# Set the index to trip_days\n",
    "trip_dates_df.set_index('trip_dates',inplace = True)\n",
    "\n",
    "# Show the data\n",
    "trip_dates_df"
   ]
  },
  {
   "cell_type": "code",
   "execution_count": 50,
   "metadata": {},
   "outputs": [
    {
     "data": {
      "image/png": "[encoded data removed]",
      "text/plain": [
       "<Figure size 576x432 with 1 Axes>"
      ]
     },
     "metadata": {
      "needs_background": "light"
     },
     "output_type": "display_data"
    }
   ],
   "source": [
    "# Plot the daily normals as an area plot with `stacked=False`\n",
    "trip_dates_df.plot.area(stacked=False, x_compat=True, alpha=.2,figsize=(8,6))\n",
    "\n",
    "# Setup the lavels\n",
    "plt.ylabel('Temperature',fontsize=16)\n",
    "plt.xlabel('Dates',fontsize=16)\n",
    "\n",
    "# Set the ticks label size\n",
    "plt.xticks(date_range,fontsize = 12)\n",
    "plt.yticks(fontsize = 12)\n",
    "\n",
    "# Setup the legend\n",
    "plt.legend(loc='best', prop={'size': 16})\n",
    "\n",
    "# Adjust so that the entire chart will be saved correctly\n",
    "plt.subplots_adjust(left=0.20, bottom=0.40, right=None, top=None, wspace=0.2, hspace=0)\n",
    "\n",
    "plt.tight_layout()\n",
    "\n",
    "# Save the figure to daily-normals.png\n",
    "plt.savefig('Images/daily-normals.png')\n",
    "\n",
    "# Show the chart\n",
    "plt.show()\n"
   ]
  }
 ],
 "metadata": {
  "kernel_info": {
   "name": "python3"
  },
  "kernelspec": {
   "display_name": "Python 3",
   "language": "python",
   "name": "python3"
  },
  "language_info": {
   "codemirror_mode": {
    "name": "ipython",
    "version": 3
   },
   "file_extension": ".py",
   "mimetype": "text/x-python",
   "name": "python",
   "nbconvert_exporter": "python",
   "pygments_lexer": "ipython3",
   "version": "3.7.4"
  },
  "nteract": {
   "version": "0.12.3"
  },
  "varInspector": {
   "cols": {
    "lenName": 16,
    "lenType": 16,
    "lenVar": 40
   },
   "kernels_config": {
    "python": {
     "delete_cmd_postfix": "",
     "delete_cmd_prefix": "del ",
     "library": "var_list.py",
     "varRefreshCmd": "print(var_dic_list())"
    },
    "r": {
     "delete_cmd_postfix": ") ",
     "delete_cmd_prefix": "rm(",
     "library": "var_list.r",
     "varRefreshCmd": "cat(var_dic_list()) "
    }
   },
   "types_to_exclude": [
    "module",
    "function",
    "builtin_function_or_method",
    "instance",
    "_Feature"
   ],
   "window_display": false
  }
 },
 "nbformat": 4,
 "nbformat_minor": 2
}
